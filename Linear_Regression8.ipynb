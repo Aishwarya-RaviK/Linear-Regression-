{
  "cells": [
    {
      "cell_type": "markdown",
      "metadata": {
        "id": "view-in-github",
        "colab_type": "text"
      },
      "source": [
        "<a href=\"https://colab.research.google.com/github/Aishwarya-RaviK/Linear-Regression-/blob/main/Linear_Regression8.ipynb\" target=\"_parent\"><img src=\"https://colab.research.google.com/assets/colab-badge.svg\" alt=\"Open In Colab\"/></a>"
      ]
    },
    {
      "cell_type": "markdown",
      "metadata": {
        "id": "8E-tp6DncGdd"
      },
      "source": [
        "# Assignment8"
      ]
    },
    {
      "cell_type": "code",
      "execution_count": null,
      "metadata": {
        "collapsed": true,
        "id": "mSwFvhEYcGdm"
      },
      "outputs": [],
      "source": [
        "import pandas as pd\n",
        "import matplotlib.pyplot as plt\n",
        "import numpy as np\n",
        "from sklearn import linear_model"
      ]
    },
    {
      "cell_type": "markdown",
      "metadata": {
        "id": "ZEyAPaaCcGdq"
      },
      "source": [
        "# How Much is Your Car Worth?\n",
        "\n",
        "Data about the retail price of 2005 General Motors cars can be found in `car_data.csv`.\n",
        "\n",
        "The columns are:\n",
        "\n",
        "1. Price: suggested retail price of the used 2005 GM car in excellent condition.\n",
        "2. Mileage: number of miles the car has been driven\n",
        "3. Make: manufacturer of the car such as Saturn, Pontiac, and Chevrolet\n",
        "4. Model: specific models for each car manufacturer such as Ion, Vibe, Cavalier\n",
        "5. Trim (of car): specific type of car model such as SE Sedan 4D, Quad Coupe 2D          \n",
        "6. Type: body type such as sedan, coupe, etc.      \n",
        "7. Cylinder: number of cylinders in the engine        \n",
        "8. Liter: a more specific measure of engine size     \n",
        "9. Doors: number of doors           \n",
        "10. Cruise: indicator variable representing whether the car has cruise control (1 = cruise)\n",
        "11. Sound: indicator variable representing whether the car has upgraded speakers (1 = upgraded)\n",
        "12. Leather: indicator variable representing whether the car has leather seats (1 = leather)\n",
        "\n",
        "## Tasks, Part 1\n",
        "\n",
        "1. Find the linear regression equation for mileage vs price.\n",
        "2. Chart the original data and the equation on the chart.\n",
        "3. Find the equation's $R^2$ score (use the `.score` method) to determine whether the\n",
        "equation is a good fit for this data. (0.8 and greater is considered a strong correlation.)\n",
        "\n",
        "## Tasks, Part 2\n",
        "\n",
        "1. Use mileage, cylinders, liters, doors, cruise, sound, and leather to find the linear regression equation.\n",
        "2. Find the equation's $R^2$ score (use the `.score` method) to determine whether the\n",
        "equation is a good fit for this data. (0.8 and greater is considered a strong correlation.)\n",
        "3. Find the combination of the factors that is the best predictor for price.\n",
        "\n",
        "## Tasks, Hard Mode\n",
        "\n",
        "1. Research dummy variables in scikit-learn to see how to use the make, model, and body type.\n",
        "2. Find the best combination of factors to predict price."
      ]
    },
    {
      "cell_type": "markdown",
      "source": [
        "**TASK-1** mileage vs price."
      ],
      "metadata": {
        "id": "8UOE-QmFxPyJ"
      }
    },
    {
      "cell_type": "code",
      "execution_count": null,
      "metadata": {
        "id": "6K0ltM19cGdy"
      },
      "outputs": [],
      "source": [
        "df = pd.read_csv(\"car_data.csv\")"
      ]
    },
    {
      "cell_type": "code",
      "source": [
        "df.columns"
      ],
      "metadata": {
        "colab": {
          "base_uri": "https://localhost:8080/"
        },
        "id": "41G7wUQZnXpE",
        "outputId": "bbd38a05-3348-44e0-db93-e5446a9f916f"
      },
      "execution_count": null,
      "outputs": [
        {
          "output_type": "execute_result",
          "data": {
            "text/plain": [
              "Index(['Price', 'Mileage', 'Make', 'Model', 'Trim', 'Type', 'Cylinder',\n",
              "       'Liter', 'Doors', 'Cruise', 'Sound', 'Leather'],\n",
              "      dtype='object')"
            ]
          },
          "metadata": {},
          "execution_count": 27
        }
      ]
    },
    {
      "cell_type": "code",
      "source": [
        "df.shape"
      ],
      "metadata": {
        "colab": {
          "base_uri": "https://localhost:8080/"
        },
        "id": "_7c9JG68nhf_",
        "outputId": "6794956b-9f4f-4030-ec6a-477f039b3160"
      },
      "execution_count": null,
      "outputs": [
        {
          "output_type": "execute_result",
          "data": {
            "text/plain": [
              "(804, 12)"
            ]
          },
          "metadata": {},
          "execution_count": 28
        }
      ]
    },
    {
      "cell_type": "code",
      "source": [
        "df.dtypes"
      ],
      "metadata": {
        "colab": {
          "base_uri": "https://localhost:8080/"
        },
        "id": "jNOBoqFonjbL",
        "outputId": "7f74fe7f-02a8-480b-ba46-11194f70a1b0"
      },
      "execution_count": null,
      "outputs": [
        {
          "output_type": "execute_result",
          "data": {
            "text/plain": [
              "Price       float64\n",
              "Mileage       int64\n",
              "Make         object\n",
              "Model        object\n",
              "Trim         object\n",
              "Type         object\n",
              "Cylinder      int64\n",
              "Liter       float64\n",
              "Doors         int64\n",
              "Cruise        int64\n",
              "Sound         int64\n",
              "Leather       int64\n",
              "dtype: object"
            ]
          },
          "metadata": {},
          "execution_count": 29
        }
      ]
    },
    {
      "cell_type": "code",
      "source": [
        "df.head()"
      ],
      "metadata": {
        "colab": {
          "base_uri": "https://localhost:8080/",
          "height": 206
        },
        "id": "he5bj0hLnpbd",
        "outputId": "632847c5-cf8f-4d1b-9b83-e3ab31e51d35"
      },
      "execution_count": null,
      "outputs": [
        {
          "output_type": "execute_result",
          "data": {
            "text/plain": [
              "          Price  Mileage   Make    Model      Trim   Type  Cylinder  Liter  \\\n",
              "0  17314.103129     8221  Buick  Century  Sedan 4D  Sedan         6    3.1   \n",
              "1  17542.036083     9135  Buick  Century  Sedan 4D  Sedan         6    3.1   \n",
              "2  16218.847862    13196  Buick  Century  Sedan 4D  Sedan         6    3.1   \n",
              "3  16336.913140    16342  Buick  Century  Sedan 4D  Sedan         6    3.1   \n",
              "4  16339.170324    19832  Buick  Century  Sedan 4D  Sedan         6    3.1   \n",
              "\n",
              "   Doors  Cruise  Sound  Leather  \n",
              "0      4       1      1        1  \n",
              "1      4       1      1        0  \n",
              "2      4       1      1        0  \n",
              "3      4       1      0        0  \n",
              "4      4       1      0        1  "
            ],
            "text/html": [
              "\n",
              "  <div id=\"df-0acb26f5-36fa-486b-9ac9-d7254ac2bda9\">\n",
              "    <div class=\"colab-df-container\">\n",
              "      <div>\n",
              "<style scoped>\n",
              "    .dataframe tbody tr th:only-of-type {\n",
              "        vertical-align: middle;\n",
              "    }\n",
              "\n",
              "    .dataframe tbody tr th {\n",
              "        vertical-align: top;\n",
              "    }\n",
              "\n",
              "    .dataframe thead th {\n",
              "        text-align: right;\n",
              "    }\n",
              "</style>\n",
              "<table border=\"1\" class=\"dataframe\">\n",
              "  <thead>\n",
              "    <tr style=\"text-align: right;\">\n",
              "      <th></th>\n",
              "      <th>Price</th>\n",
              "      <th>Mileage</th>\n",
              "      <th>Make</th>\n",
              "      <th>Model</th>\n",
              "      <th>Trim</th>\n",
              "      <th>Type</th>\n",
              "      <th>Cylinder</th>\n",
              "      <th>Liter</th>\n",
              "      <th>Doors</th>\n",
              "      <th>Cruise</th>\n",
              "      <th>Sound</th>\n",
              "      <th>Leather</th>\n",
              "    </tr>\n",
              "  </thead>\n",
              "  <tbody>\n",
              "    <tr>\n",
              "      <th>0</th>\n",
              "      <td>17314.103129</td>\n",
              "      <td>8221</td>\n",
              "      <td>Buick</td>\n",
              "      <td>Century</td>\n",
              "      <td>Sedan 4D</td>\n",
              "      <td>Sedan</td>\n",
              "      <td>6</td>\n",
              "      <td>3.1</td>\n",
              "      <td>4</td>\n",
              "      <td>1</td>\n",
              "      <td>1</td>\n",
              "      <td>1</td>\n",
              "    </tr>\n",
              "    <tr>\n",
              "      <th>1</th>\n",
              "      <td>17542.036083</td>\n",
              "      <td>9135</td>\n",
              "      <td>Buick</td>\n",
              "      <td>Century</td>\n",
              "      <td>Sedan 4D</td>\n",
              "      <td>Sedan</td>\n",
              "      <td>6</td>\n",
              "      <td>3.1</td>\n",
              "      <td>4</td>\n",
              "      <td>1</td>\n",
              "      <td>1</td>\n",
              "      <td>0</td>\n",
              "    </tr>\n",
              "    <tr>\n",
              "      <th>2</th>\n",
              "      <td>16218.847862</td>\n",
              "      <td>13196</td>\n",
              "      <td>Buick</td>\n",
              "      <td>Century</td>\n",
              "      <td>Sedan 4D</td>\n",
              "      <td>Sedan</td>\n",
              "      <td>6</td>\n",
              "      <td>3.1</td>\n",
              "      <td>4</td>\n",
              "      <td>1</td>\n",
              "      <td>1</td>\n",
              "      <td>0</td>\n",
              "    </tr>\n",
              "    <tr>\n",
              "      <th>3</th>\n",
              "      <td>16336.913140</td>\n",
              "      <td>16342</td>\n",
              "      <td>Buick</td>\n",
              "      <td>Century</td>\n",
              "      <td>Sedan 4D</td>\n",
              "      <td>Sedan</td>\n",
              "      <td>6</td>\n",
              "      <td>3.1</td>\n",
              "      <td>4</td>\n",
              "      <td>1</td>\n",
              "      <td>0</td>\n",
              "      <td>0</td>\n",
              "    </tr>\n",
              "    <tr>\n",
              "      <th>4</th>\n",
              "      <td>16339.170324</td>\n",
              "      <td>19832</td>\n",
              "      <td>Buick</td>\n",
              "      <td>Century</td>\n",
              "      <td>Sedan 4D</td>\n",
              "      <td>Sedan</td>\n",
              "      <td>6</td>\n",
              "      <td>3.1</td>\n",
              "      <td>4</td>\n",
              "      <td>1</td>\n",
              "      <td>0</td>\n",
              "      <td>1</td>\n",
              "    </tr>\n",
              "  </tbody>\n",
              "</table>\n",
              "</div>\n",
              "      <button class=\"colab-df-convert\" onclick=\"convertToInteractive('df-0acb26f5-36fa-486b-9ac9-d7254ac2bda9')\"\n",
              "              title=\"Convert this dataframe to an interactive table.\"\n",
              "              style=\"display:none;\">\n",
              "        \n",
              "  <svg xmlns=\"http://www.w3.org/2000/svg\" height=\"24px\"viewBox=\"0 0 24 24\"\n",
              "       width=\"24px\">\n",
              "    <path d=\"M0 0h24v24H0V0z\" fill=\"none\"/>\n",
              "    <path d=\"M18.56 5.44l.94 2.06.94-2.06 2.06-.94-2.06-.94-.94-2.06-.94 2.06-2.06.94zm-11 1L8.5 8.5l.94-2.06 2.06-.94-2.06-.94L8.5 2.5l-.94 2.06-2.06.94zm10 10l.94 2.06.94-2.06 2.06-.94-2.06-.94-.94-2.06-.94 2.06-2.06.94z\"/><path d=\"M17.41 7.96l-1.37-1.37c-.4-.4-.92-.59-1.43-.59-.52 0-1.04.2-1.43.59L10.3 9.45l-7.72 7.72c-.78.78-.78 2.05 0 2.83L4 21.41c.39.39.9.59 1.41.59.51 0 1.02-.2 1.41-.59l7.78-7.78 2.81-2.81c.8-.78.8-2.07 0-2.86zM5.41 20L4 18.59l7.72-7.72 1.47 1.35L5.41 20z\"/>\n",
              "  </svg>\n",
              "      </button>\n",
              "      \n",
              "  <style>\n",
              "    .colab-df-container {\n",
              "      display:flex;\n",
              "      flex-wrap:wrap;\n",
              "      gap: 12px;\n",
              "    }\n",
              "\n",
              "    .colab-df-convert {\n",
              "      background-color: #E8F0FE;\n",
              "      border: none;\n",
              "      border-radius: 50%;\n",
              "      cursor: pointer;\n",
              "      display: none;\n",
              "      fill: #1967D2;\n",
              "      height: 32px;\n",
              "      padding: 0 0 0 0;\n",
              "      width: 32px;\n",
              "    }\n",
              "\n",
              "    .colab-df-convert:hover {\n",
              "      background-color: #E2EBFA;\n",
              "      box-shadow: 0px 1px 2px rgba(60, 64, 67, 0.3), 0px 1px 3px 1px rgba(60, 64, 67, 0.15);\n",
              "      fill: #174EA6;\n",
              "    }\n",
              "\n",
              "    [theme=dark] .colab-df-convert {\n",
              "      background-color: #3B4455;\n",
              "      fill: #D2E3FC;\n",
              "    }\n",
              "\n",
              "    [theme=dark] .colab-df-convert:hover {\n",
              "      background-color: #434B5C;\n",
              "      box-shadow: 0px 1px 3px 1px rgba(0, 0, 0, 0.15);\n",
              "      filter: drop-shadow(0px 1px 2px rgba(0, 0, 0, 0.3));\n",
              "      fill: #FFFFFF;\n",
              "    }\n",
              "  </style>\n",
              "\n",
              "      <script>\n",
              "        const buttonEl =\n",
              "          document.querySelector('#df-0acb26f5-36fa-486b-9ac9-d7254ac2bda9 button.colab-df-convert');\n",
              "        buttonEl.style.display =\n",
              "          google.colab.kernel.accessAllowed ? 'block' : 'none';\n",
              "\n",
              "        async function convertToInteractive(key) {\n",
              "          const element = document.querySelector('#df-0acb26f5-36fa-486b-9ac9-d7254ac2bda9');\n",
              "          const dataTable =\n",
              "            await google.colab.kernel.invokeFunction('convertToInteractive',\n",
              "                                                     [key], {});\n",
              "          if (!dataTable) return;\n",
              "\n",
              "          const docLinkHtml = 'Like what you see? Visit the ' +\n",
              "            '<a target=\"_blank\" href=https://colab.research.google.com/notebooks/data_table.ipynb>data table notebook</a>'\n",
              "            + ' to learn more about interactive tables.';\n",
              "          element.innerHTML = '';\n",
              "          dataTable['output_type'] = 'display_data';\n",
              "          await google.colab.output.renderOutput(dataTable, element);\n",
              "          const docLink = document.createElement('div');\n",
              "          docLink.innerHTML = docLinkHtml;\n",
              "          element.appendChild(docLink);\n",
              "        }\n",
              "      </script>\n",
              "    </div>\n",
              "  </div>\n",
              "  "
            ]
          },
          "metadata": {},
          "execution_count": 30
        }
      ]
    },
    {
      "cell_type": "code",
      "source": [
        "X=df[['Mileage']]\n",
        "y=df[['Price']]"
      ],
      "metadata": {
        "id": "lS8aKFlYxOKL"
      },
      "execution_count": null,
      "outputs": []
    },
    {
      "cell_type": "code",
      "source": [
        "from sklearn.model_selection import train_test_split\n",
        "X_train,X_test,y_train,y_test= train_test_split(X,y,test_size=0.2,random_state=4)"
      ],
      "metadata": {
        "id": "fe3Fawkxxd-i"
      },
      "execution_count": null,
      "outputs": []
    },
    {
      "cell_type": "code",
      "source": [
        "from sklearn.preprocessing import StandardScaler \n",
        "scale=StandardScaler()\n",
        "scale.fit(X_train)\n",
        "X_train_scaled=scale.transform(X_train)\n",
        "X_test_scaled=scale.transform(X_test)"
      ],
      "metadata": {
        "id": "mEC1Sgqkxj6x"
      },
      "execution_count": null,
      "outputs": []
    },
    {
      "cell_type": "code",
      "source": [
        "from sklearn.linear_model import LinearRegression \n",
        "reggressor=LinearRegression()\n",
        "reggressor.fit(X_train,y_train)"
      ],
      "metadata": {
        "colab": {
          "base_uri": "https://localhost:8080/"
        },
        "id": "Alp5ZG24xpyj",
        "outputId": "765fa9c7-080e-47b9-bfbd-5f40ed0f198a"
      },
      "execution_count": null,
      "outputs": [
        {
          "output_type": "execute_result",
          "data": {
            "text/plain": [
              "LinearRegression()"
            ]
          },
          "metadata": {},
          "execution_count": 34
        }
      ]
    },
    {
      "cell_type": "code",
      "source": [
        "y_pred=reggressor.predict(X_test)"
      ],
      "metadata": {
        "id": "Db3LUk2gxzES"
      },
      "execution_count": null,
      "outputs": []
    },
    {
      "cell_type": "code",
      "source": [
        "reggressor.coef_"
      ],
      "metadata": {
        "colab": {
          "base_uri": "https://localhost:8080/"
        },
        "id": "QQeuR187x1Hh",
        "outputId": "3ae0dbe2-5a2a-4c7d-da2a-d5a118fd6e2a"
      },
      "execution_count": null,
      "outputs": [
        {
          "output_type": "execute_result",
          "data": {
            "text/plain": [
              "array([[-0.16766196]])"
            ]
          },
          "metadata": {},
          "execution_count": 36
        }
      ]
    },
    {
      "cell_type": "code",
      "source": [
        "reggressor.intercept_"
      ],
      "metadata": {
        "colab": {
          "base_uri": "https://localhost:8080/"
        },
        "id": "GzVGvuuGx6XJ",
        "outputId": "3d7ef3a9-fed1-4f41-8d1e-628e2ca5200a"
      },
      "execution_count": null,
      "outputs": [
        {
          "output_type": "execute_result",
          "data": {
            "text/plain": [
              "array([24398.89335845])"
            ]
          },
          "metadata": {},
          "execution_count": 37
        }
      ]
    },
    {
      "cell_type": "markdown",
      "source": [
        "The equation price = 24398.89 + (-0.1676)(Mileage)"
      ],
      "metadata": {
        "id": "imGj_XlXx9rp"
      }
    },
    {
      "cell_type": "code",
      "source": [
        "import seaborn as sns \n",
        "ax=sns.regplot(x='Mileage',y='Price',data=df,color='green')"
      ],
      "metadata": {
        "colab": {
          "base_uri": "https://localhost:8080/",
          "height": 279
        },
        "id": "34mgbaFD5F3e",
        "outputId": "0c9c2438-5dc1-4765-bed8-d14312e2f2d6"
      },
      "execution_count": null,
      "outputs": [
        {
          "output_type": "display_data",
          "data": {
            "text/plain": [
              "<Figure size 432x288 with 1 Axes>"
            ],
            "image/png": "[encoded data removed]"
          },
          "metadata": {
            "needs_background": "light"
          }
        }
      ]
    },
    {
      "cell_type": "code",
      "source": [
        "from sklearn import metrics \n",
        "a=metrics.r2_score(y_test,y_pred)\n",
        "print(a)"
      ],
      "metadata": {
        "colab": {
          "base_uri": "https://localhost:8080/"
        },
        "id": "MVmCibeZyTHK",
        "outputId": "2974b9ab-91dd-4ab7-b73d-85287397258e"
      },
      "execution_count": null,
      "outputs": [
        {
          "output_type": "stream",
          "name": "stdout",
          "text": [
            "0.005981342067773565\n"
          ]
        }
      ]
    },
    {
      "cell_type": "markdown",
      "source": [
        "**TASK-2** mileage, cylinders, liters, doors, cruise, sound, and leather"
      ],
      "metadata": {
        "id": "CimA1wtcyM7p"
      }
    },
    {
      "cell_type": "code",
      "source": [
        "X=df[['Mileage','Cylinder','Doors','Cruise','Sound','Leather']]"
      ],
      "metadata": {
        "id": "gqGZ_W3cyrts"
      },
      "execution_count": null,
      "outputs": []
    },
    {
      "cell_type": "code",
      "source": [
        "y=df[['Price']]"
      ],
      "metadata": {
        "id": "lM_C_y5-zbLy"
      },
      "execution_count": null,
      "outputs": []
    },
    {
      "cell_type": "code",
      "source": [
        "from sklearn.model_selection import train_test_split\n",
        "X_train,X_test,y_train,y_test= train_test_split(X,y,test_size=0.2,random_state=4)"
      ],
      "metadata": {
        "id": "ltZX_K1GzeDc"
      },
      "execution_count": null,
      "outputs": []
    },
    {
      "cell_type": "code",
      "source": [
        "from sklearn.preprocessing import StandardScaler \n",
        "scale=StandardScaler()\n",
        "scale.fit(X_train)\n",
        "X_train_scaled=scale.transform(X_train)\n",
        "X_test_scaled=scale.transform(X_test)"
      ],
      "metadata": {
        "id": "j6cncQy2zjDA"
      },
      "execution_count": null,
      "outputs": []
    },
    {
      "cell_type": "code",
      "source": [
        "from sklearn.linear_model import LinearRegression \n",
        "reggressor=LinearRegression()\n",
        "reggressor.fit(X_train,y_train)"
      ],
      "metadata": {
        "colab": {
          "base_uri": "https://localhost:8080/"
        },
        "id": "5-kpTHADzm1q",
        "outputId": "36f6aa5a-1495-47da-8491-c8731edd4b1e"
      },
      "execution_count": null,
      "outputs": [
        {
          "output_type": "execute_result",
          "data": {
            "text/plain": [
              "LinearRegression()"
            ]
          },
          "metadata": {},
          "execution_count": 43
        }
      ]
    },
    {
      "cell_type": "code",
      "source": [
        "y_pred=reggressor.predict(X_test)"
      ],
      "metadata": {
        "id": "WgYdLO_Zzr_L"
      },
      "execution_count": null,
      "outputs": []
    },
    {
      "cell_type": "code",
      "source": [
        "reggressor.intercept_"
      ],
      "metadata": {
        "colab": {
          "base_uri": "https://localhost:8080/"
        },
        "id": "wQ9vPGYezwSR",
        "outputId": "6c20267c-ff84-4949-c33d-1e3e1532e935"
      },
      "execution_count": null,
      "outputs": [
        {
          "output_type": "execute_result",
          "data": {
            "text/plain": [
              "array([7870.01329474])"
            ]
          },
          "metadata": {},
          "execution_count": 45
        }
      ]
    },
    {
      "cell_type": "code",
      "source": [
        "reggressor.coef_"
      ],
      "metadata": {
        "colab": {
          "base_uri": "https://localhost:8080/"
        },
        "id": "dZpwRuIvz0Sp",
        "outputId": "8ec55f36-c986-4bad-eb16-434a6ea326bb"
      },
      "execution_count": null,
      "outputs": [
        {
          "output_type": "execute_result",
          "data": {
            "text/plain": [
              "array([[-1.73415219e-01,  3.02297933e+03, -1.27040721e+03,\n",
              "         5.98554075e+03, -2.64752958e+03,  3.36987294e+03]])"
            ]
          },
          "metadata": {},
          "execution_count": 46
        }
      ]
    },
    {
      "cell_type": "markdown",
      "source": [
        "features ------> 'Mileage','Cylinder','Doors','Cruise','Sound','Leather'"
      ],
      "metadata": {
        "id": "-vnM0Upr0NWR"
      }
    },
    {
      "cell_type": "markdown",
      "source": [
        "The equation is Price= 7870 + -1.73(Mileage)+3.02(cylinder)+(-1.27)(doors)+5.98(cruise)+(-2.64)(sound)+3.36(leather)"
      ],
      "metadata": {
        "id": "w03FBQEqz3KZ"
      }
    },
    {
      "cell_type": "code",
      "source": [
        "from sklearn import metrics\n",
        "a=metrics.r2_score(y_test,y_pred)\n",
        "print(a)"
      ],
      "metadata": {
        "colab": {
          "base_uri": "https://localhost:8080/"
        },
        "id": "glEOQ9P10cb4",
        "outputId": "a6a9bf66-b7c8-426d-aa60-b9f40d5fed12"
      },
      "execution_count": null,
      "outputs": [
        {
          "output_type": "stream",
          "name": "stdout",
          "text": [
            "0.4799289026757796\n"
          ]
        }
      ]
    },
    {
      "cell_type": "markdown",
      "source": [
        "**TASK-3** Using One-Hot-Encoding"
      ],
      "metadata": {
        "id": "t50BoYOQxGM_"
      }
    },
    {
      "cell_type": "code",
      "source": [
        "df['Make'].unique()"
      ],
      "metadata": {
        "colab": {
          "base_uri": "https://localhost:8080/"
        },
        "id": "QcqpgQq1pSnL",
        "outputId": "7ba09e49-124d-4037-b629-a90e792694bb"
      },
      "execution_count": null,
      "outputs": [
        {
          "output_type": "execute_result",
          "data": {
            "text/plain": [
              "array(['Buick', 'Cadillac', 'Chevrolet', 'Pontiac', 'SAAB', 'Saturn'],\n",
              "      dtype=object)"
            ]
          },
          "metadata": {},
          "execution_count": 48
        }
      ]
    },
    {
      "cell_type": "code",
      "source": [
        "df['Model'].unique()"
      ],
      "metadata": {
        "colab": {
          "base_uri": "https://localhost:8080/"
        },
        "id": "Y6OunTxlqh5T",
        "outputId": "63e401c0-2d7a-4265-9192-b25e60b0148a"
      },
      "execution_count": null,
      "outputs": [
        {
          "output_type": "execute_result",
          "data": {
            "text/plain": [
              "array(['Century', 'Lacrosse', 'Lesabre', 'Park Avenue', 'CST-V', 'CTS',\n",
              "       'Deville', 'STS-V6', 'STS-V8', 'XLR-V8', 'AVEO', 'Cavalier',\n",
              "       'Classic', 'Cobalt', 'Corvette', 'Impala', 'Malibu', 'Monte Carlo',\n",
              "       'Bonneville', 'G6', 'Grand Am', 'Grand Prix', 'GTO', 'Sunfire',\n",
              "       'Vibe', '9_3', '9_3 HO', '9_5', '9_5 HO', '9-2X AWD', 'Ion',\n",
              "       'L Series'], dtype=object)"
            ]
          },
          "metadata": {},
          "execution_count": 49
        }
      ]
    },
    {
      "cell_type": "code",
      "source": [
        "df['Trim'].unique() # is like type and model so we just drop this feature"
      ],
      "metadata": {
        "colab": {
          "base_uri": "https://localhost:8080/"
        },
        "id": "xAK0fasarBUC",
        "outputId": "522a98d1-db27-4cec-ccf7-0e2c4e087dff"
      },
      "execution_count": null,
      "outputs": [
        {
          "output_type": "execute_result",
          "data": {
            "text/plain": [
              "array(['Sedan 4D', 'CX Sedan 4D', 'CXL Sedan 4D', 'CXS Sedan 4D',\n",
              "       'Custom Sedan 4D', 'Limited Sedan 4D', 'Special Ed Ultra 4D',\n",
              "       'DHS Sedan 4D', 'DTS Sedan 4D', 'Hardtop Conv 2D',\n",
              "       'LS Hatchback 4D', 'LS Sedan 4D', 'LT Hatchback 4D', 'LT Sedan 4D',\n",
              "       'SVM Hatchback 4D', 'SVM Sedan 4D', 'Coupe 2D', 'LS Coupe 2D',\n",
              "       'LS Sport Coupe 2D', 'LS Sport Sedan 4D', 'Conv 2D', 'SS Sedan 4D',\n",
              "       'LS MAXX Hback 4D', 'LT MAXX Hback 4D', 'MAXX Hback 4D',\n",
              "       'LT Coupe 2D', 'SS Coupe 2D', 'GXP Sedan 4D', 'SE Sedan 4D',\n",
              "       'SLE Sedan 4D', 'GT Sedan 4D', 'GT Coupe 2D', 'GTP Sedan 4D',\n",
              "       'AWD Sportwagon 4D', 'GT Sportwagon', 'Sportwagon 4D',\n",
              "       'Linear Conv 2D', 'Linear Sedan 4D', 'Aero Conv 2D',\n",
              "       'Aero Sedan 4D', 'Arc Conv 2D', 'Arc Sedan 4D', 'Arc Wagon 4D',\n",
              "       'Linear Wagon 4D', 'Aero Wagon 4D', 'Quad Coupe 2D',\n",
              "       'L300 Sedan 4D'], dtype=object)"
            ]
          },
          "metadata": {},
          "execution_count": 50
        }
      ]
    },
    {
      "cell_type": "code",
      "source": [
        "df['Type'].unique()"
      ],
      "metadata": {
        "colab": {
          "base_uri": "https://localhost:8080/"
        },
        "id": "_KLQGROJrknM",
        "outputId": "6c8bb328-ac81-4dbc-9cc3-67b579529671"
      },
      "execution_count": null,
      "outputs": [
        {
          "output_type": "execute_result",
          "data": {
            "text/plain": [
              "array(['Sedan', 'Convertible', 'Hatchback', 'Coupe', 'Wagon'],\n",
              "      dtype=object)"
            ]
          },
          "metadata": {},
          "execution_count": 51
        }
      ]
    },
    {
      "cell_type": "code",
      "source": [
        "encoded_data = pd.get_dummies(df, columns = ['Make','Model','Type'])"
      ],
      "metadata": {
        "id": "-WRdKzuTpx0b"
      },
      "execution_count": null,
      "outputs": []
    },
    {
      "cell_type": "code",
      "source": [
        "encoded_data.head()"
      ],
      "metadata": {
        "colab": {
          "base_uri": "https://localhost:8080/",
          "height": 404
        },
        "id": "xECdiO7mr2ci",
        "outputId": "e53f17eb-09c0-4b80-f86e-aed0d384addb"
      },
      "execution_count": null,
      "outputs": [
        {
          "output_type": "execute_result",
          "data": {
            "text/plain": [
              "          Price  Mileage      Trim  Cylinder  Liter  Doors  Cruise  Sound  \\\n",
              "0  17314.103129     8221  Sedan 4D         6    3.1      4       1      1   \n",
              "1  17542.036083     9135  Sedan 4D         6    3.1      4       1      1   \n",
              "2  16218.847862    13196  Sedan 4D         6    3.1      4       1      1   \n",
              "3  16336.913140    16342  Sedan 4D         6    3.1      4       1      0   \n",
              "4  16339.170324    19832  Sedan 4D         6    3.1      4       1      0   \n",
              "\n",
              "   Leather  Make_Buick  ...  Model_STS-V6  Model_STS-V8  Model_Sunfire  \\\n",
              "0        1           1  ...             0             0              0   \n",
              "1        0           1  ...             0             0              0   \n",
              "2        0           1  ...             0             0              0   \n",
              "3        0           1  ...             0             0              0   \n",
              "4        1           1  ...             0             0              0   \n",
              "\n",
              "   Model_Vibe  Model_XLR-V8  Type_Convertible  Type_Coupe  Type_Hatchback  \\\n",
              "0           0             0                 0           0               0   \n",
              "1           0             0                 0           0               0   \n",
              "2           0             0                 0           0               0   \n",
              "3           0             0                 0           0               0   \n",
              "4           0             0                 0           0               0   \n",
              "\n",
              "   Type_Sedan  Type_Wagon  \n",
              "0           1           0  \n",
              "1           1           0  \n",
              "2           1           0  \n",
              "3           1           0  \n",
              "4           1           0  \n",
              "\n",
              "[5 rows x 52 columns]"
            ],
            "text/html": [
              "\n",
              "  <div id=\"df-a88b49ee-357a-427d-bd66-4aa6be5b3f58\">\n",
              "    <div class=\"colab-df-container\">\n",
              "      <div>\n",
              "<style scoped>\n",
              "    .dataframe tbody tr th:only-of-type {\n",
              "        vertical-align: middle;\n",
              "    }\n",
              "\n",
              "    .dataframe tbody tr th {\n",
              "        vertical-align: top;\n",
              "    }\n",
              "\n",
              "    .dataframe thead th {\n",
              "        text-align: right;\n",
              "    }\n",
              "</style>\n",
              "<table border=\"1\" class=\"dataframe\">\n",
              "  <thead>\n",
              "    <tr style=\"text-align: right;\">\n",
              "      <th></th>\n",
              "      <th>Price</th>\n",
              "      <th>Mileage</th>\n",
              "      <th>Trim</th>\n",
              "      <th>Cylinder</th>\n",
              "      <th>Liter</th>\n",
              "      <th>Doors</th>\n",
              "      <th>Cruise</th>\n",
              "      <th>Sound</th>\n",
              "      <th>Leather</th>\n",
              "      <th>Make_Buick</th>\n",
              "      <th>...</th>\n",
              "      <th>Model_STS-V6</th>\n",
              "      <th>Model_STS-V8</th>\n",
              "      <th>Model_Sunfire</th>\n",
              "      <th>Model_Vibe</th>\n",
              "      <th>Model_XLR-V8</th>\n",
              "      <th>Type_Convertible</th>\n",
              "      <th>Type_Coupe</th>\n",
              "      <th>Type_Hatchback</th>\n",
              "      <th>Type_Sedan</th>\n",
              "      <th>Type_Wagon</th>\n",
              "    </tr>\n",
              "  </thead>\n",
              "  <tbody>\n",
              "    <tr>\n",
              "      <th>0</th>\n",
              "      <td>17314.103129</td>\n",
              "      <td>8221</td>\n",
              "      <td>Sedan 4D</td>\n",
              "      <td>6</td>\n",
              "      <td>3.1</td>\n",
              "      <td>4</td>\n",
              "      <td>1</td>\n",
              "      <td>1</td>\n",
              "      <td>1</td>\n",
              "      <td>1</td>\n",
              "      <td>...</td>\n",
              "      <td>0</td>\n",
              "      <td>0</td>\n",
              "      <td>0</td>\n",
              "      <td>0</td>\n",
              "      <td>0</td>\n",
              "      <td>0</td>\n",
              "      <td>0</td>\n",
              "      <td>0</td>\n",
              "      <td>1</td>\n",
              "      <td>0</td>\n",
              "    </tr>\n",
              "    <tr>\n",
              "      <th>1</th>\n",
              "      <td>17542.036083</td>\n",
              "      <td>9135</td>\n",
              "      <td>Sedan 4D</td>\n",
              "      <td>6</td>\n",
              "      <td>3.1</td>\n",
              "      <td>4</td>\n",
              "      <td>1</td>\n",
              "      <td>1</td>\n",
              "      <td>0</td>\n",
              "      <td>1</td>\n",
              "      <td>...</td>\n",
              "      <td>0</td>\n",
              "      <td>0</td>\n",
              "      <td>0</td>\n",
              "      <td>0</td>\n",
              "      <td>0</td>\n",
              "      <td>0</td>\n",
              "      <td>0</td>\n",
              "      <td>0</td>\n",
              "      <td>1</td>\n",
              "      <td>0</td>\n",
              "    </tr>\n",
              "    <tr>\n",
              "      <th>2</th>\n",
              "      <td>16218.847862</td>\n",
              "      <td>13196</td>\n",
              "      <td>Sedan 4D</td>\n",
              "      <td>6</td>\n",
              "      <td>3.1</td>\n",
              "      <td>4</td>\n",
              "      <td>1</td>\n",
              "      <td>1</td>\n",
              "      <td>0</td>\n",
              "      <td>1</td>\n",
              "      <td>...</td>\n",
              "      <td>0</td>\n",
              "      <td>0</td>\n",
              "      <td>0</td>\n",
              "      <td>0</td>\n",
              "      <td>0</td>\n",
              "      <td>0</td>\n",
              "      <td>0</td>\n",
              "      <td>0</td>\n",
              "      <td>1</td>\n",
              "      <td>0</td>\n",
              "    </tr>\n",
              "    <tr>\n",
              "      <th>3</th>\n",
              "      <td>16336.913140</td>\n",
              "      <td>16342</td>\n",
              "      <td>Sedan 4D</td>\n",
              "      <td>6</td>\n",
              "      <td>3.1</td>\n",
              "      <td>4</td>\n",
              "      <td>1</td>\n",
              "      <td>0</td>\n",
              "      <td>0</td>\n",
              "      <td>1</td>\n",
              "      <td>...</td>\n",
              "      <td>0</td>\n",
              "      <td>0</td>\n",
              "      <td>0</td>\n",
              "      <td>0</td>\n",
              "      <td>0</td>\n",
              "      <td>0</td>\n",
              "      <td>0</td>\n",
              "      <td>0</td>\n",
              "      <td>1</td>\n",
              "      <td>0</td>\n",
              "    </tr>\n",
              "    <tr>\n",
              "      <th>4</th>\n",
              "      <td>16339.170324</td>\n",
              "      <td>19832</td>\n",
              "      <td>Sedan 4D</td>\n",
              "      <td>6</td>\n",
              "      <td>3.1</td>\n",
              "      <td>4</td>\n",
              "      <td>1</td>\n",
              "      <td>0</td>\n",
              "      <td>1</td>\n",
              "      <td>1</td>\n",
              "      <td>...</td>\n",
              "      <td>0</td>\n",
              "      <td>0</td>\n",
              "      <td>0</td>\n",
              "      <td>0</td>\n",
              "      <td>0</td>\n",
              "      <td>0</td>\n",
              "      <td>0</td>\n",
              "      <td>0</td>\n",
              "      <td>1</td>\n",
              "      <td>0</td>\n",
              "    </tr>\n",
              "  </tbody>\n",
              "</table>\n",
              "<p>5 rows × 52 columns</p>\n",
              "</div>\n",
              "      <button class=\"colab-df-convert\" onclick=\"convertToInteractive('df-a88b49ee-357a-427d-bd66-4aa6be5b3f58')\"\n",
              "              title=\"Convert this dataframe to an interactive table.\"\n",
              "              style=\"display:none;\">\n",
              "        \n",
              "  <svg xmlns=\"http://www.w3.org/2000/svg\" height=\"24px\"viewBox=\"0 0 24 24\"\n",
              "       width=\"24px\">\n",
              "    <path d=\"M0 0h24v24H0V0z\" fill=\"none\"/>\n",
              "    <path d=\"M18.56 5.44l.94 2.06.94-2.06 2.06-.94-2.06-.94-.94-2.06-.94 2.06-2.06.94zm-11 1L8.5 8.5l.94-2.06 2.06-.94-2.06-.94L8.5 2.5l-.94 2.06-2.06.94zm10 10l.94 2.06.94-2.06 2.06-.94-2.06-.94-.94-2.06-.94 2.06-2.06.94z\"/><path d=\"M17.41 7.96l-1.37-1.37c-.4-.4-.92-.59-1.43-.59-.52 0-1.04.2-1.43.59L10.3 9.45l-7.72 7.72c-.78.78-.78 2.05 0 2.83L4 21.41c.39.39.9.59 1.41.59.51 0 1.02-.2 1.41-.59l7.78-7.78 2.81-2.81c.8-.78.8-2.07 0-2.86zM5.41 20L4 18.59l7.72-7.72 1.47 1.35L5.41 20z\"/>\n",
              "  </svg>\n",
              "      </button>\n",
              "      \n",
              "  <style>\n",
              "    .colab-df-container {\n",
              "      display:flex;\n",
              "      flex-wrap:wrap;\n",
              "      gap: 12px;\n",
              "    }\n",
              "\n",
              "    .colab-df-convert {\n",
              "      background-color: #E8F0FE;\n",
              "      border: none;\n",
              "      border-radius: 50%;\n",
              "      cursor: pointer;\n",
              "      display: none;\n",
              "      fill: #1967D2;\n",
              "      height: 32px;\n",
              "      padding: 0 0 0 0;\n",
              "      width: 32px;\n",
              "    }\n",
              "\n",
              "    .colab-df-convert:hover {\n",
              "      background-color: #E2EBFA;\n",
              "      box-shadow: 0px 1px 2px rgba(60, 64, 67, 0.3), 0px 1px 3px 1px rgba(60, 64, 67, 0.15);\n",
              "      fill: #174EA6;\n",
              "    }\n",
              "\n",
              "    [theme=dark] .colab-df-convert {\n",
              "      background-color: #3B4455;\n",
              "      fill: #D2E3FC;\n",
              "    }\n",
              "\n",
              "    [theme=dark] .colab-df-convert:hover {\n",
              "      background-color: #434B5C;\n",
              "      box-shadow: 0px 1px 3px 1px rgba(0, 0, 0, 0.15);\n",
              "      filter: drop-shadow(0px 1px 2px rgba(0, 0, 0, 0.3));\n",
              "      fill: #FFFFFF;\n",
              "    }\n",
              "  </style>\n",
              "\n",
              "      <script>\n",
              "        const buttonEl =\n",
              "          document.querySelector('#df-a88b49ee-357a-427d-bd66-4aa6be5b3f58 button.colab-df-convert');\n",
              "        buttonEl.style.display =\n",
              "          google.colab.kernel.accessAllowed ? 'block' : 'none';\n",
              "\n",
              "        async function convertToInteractive(key) {\n",
              "          const element = document.querySelector('#df-a88b49ee-357a-427d-bd66-4aa6be5b3f58');\n",
              "          const dataTable =\n",
              "            await google.colab.kernel.invokeFunction('convertToInteractive',\n",
              "                                                     [key], {});\n",
              "          if (!dataTable) return;\n",
              "\n",
              "          const docLinkHtml = 'Like what you see? Visit the ' +\n",
              "            '<a target=\"_blank\" href=https://colab.research.google.com/notebooks/data_table.ipynb>data table notebook</a>'\n",
              "            + ' to learn more about interactive tables.';\n",
              "          element.innerHTML = '';\n",
              "          dataTable['output_type'] = 'display_data';\n",
              "          await google.colab.output.renderOutput(dataTable, element);\n",
              "          const docLink = document.createElement('div');\n",
              "          docLink.innerHTML = docLinkHtml;\n",
              "          element.appendChild(docLink);\n",
              "        }\n",
              "      </script>\n",
              "    </div>\n",
              "  </div>\n",
              "  "
            ]
          },
          "metadata": {},
          "execution_count": 53
        }
      ]
    },
    {
      "cell_type": "code",
      "source": [
        "encoded_data.columns"
      ],
      "metadata": {
        "colab": {
          "base_uri": "https://localhost:8080/"
        },
        "id": "7t3FtmLasMQk",
        "outputId": "2a37ca4d-76ae-46c3-c5a8-48103c06b7b9"
      },
      "execution_count": null,
      "outputs": [
        {
          "output_type": "execute_result",
          "data": {
            "text/plain": [
              "Index(['Price', 'Mileage', 'Trim', 'Cylinder', 'Liter', 'Doors', 'Cruise',\n",
              "       'Sound', 'Leather', 'Make_Buick', 'Make_Cadillac', 'Make_Chevrolet',\n",
              "       'Make_Pontiac', 'Make_SAAB', 'Make_Saturn', 'Model_9-2X AWD',\n",
              "       'Model_9_3', 'Model_9_3 HO', 'Model_9_5', 'Model_9_5 HO', 'Model_AVEO',\n",
              "       'Model_Bonneville', 'Model_CST-V', 'Model_CTS', 'Model_Cavalier',\n",
              "       'Model_Century', 'Model_Classic', 'Model_Cobalt', 'Model_Corvette',\n",
              "       'Model_Deville', 'Model_G6', 'Model_GTO', 'Model_Grand Am',\n",
              "       'Model_Grand Prix', 'Model_Impala', 'Model_Ion', 'Model_L Series',\n",
              "       'Model_Lacrosse', 'Model_Lesabre', 'Model_Malibu', 'Model_Monte Carlo',\n",
              "       'Model_Park Avenue', 'Model_STS-V6', 'Model_STS-V8', 'Model_Sunfire',\n",
              "       'Model_Vibe', 'Model_XLR-V8', 'Type_Convertible', 'Type_Coupe',\n",
              "       'Type_Hatchback', 'Type_Sedan', 'Type_Wagon'],\n",
              "      dtype='object')"
            ]
          },
          "metadata": {},
          "execution_count": 54
        }
      ]
    },
    {
      "cell_type": "code",
      "source": [
        "cols=['Mileage','Cylinder', 'Liter', 'Doors', 'Cruise',\n",
        "       'Sound', 'Leather', 'Make_Buick', 'Make_Cadillac', 'Make_Chevrolet',\n",
        "       'Make_Pontiac', 'Make_SAAB', 'Make_Saturn', 'Model_9-2X AWD',\n",
        "       'Model_9_3', 'Model_9_3 HO', 'Model_9_5', 'Model_9_5 HO', 'Model_AVEO',\n",
        "       'Model_Bonneville', 'Model_CST-V', 'Model_CTS', 'Model_Cavalier',\n",
        "       'Model_Century', 'Model_Classic', 'Model_Cobalt', 'Model_Corvette',\n",
        "       'Model_Deville', 'Model_G6', 'Model_GTO', 'Model_Grand Am',\n",
        "       'Model_Grand Prix', 'Model_Impala', 'Model_Ion', 'Model_L Series',\n",
        "       'Model_Lacrosse', 'Model_Lesabre', 'Model_Malibu', 'Model_Monte Carlo',\n",
        "       'Model_Park Avenue', 'Model_STS-V6', 'Model_STS-V8', 'Model_Sunfire',\n",
        "       'Model_Vibe', 'Model_XLR-V8', 'Type_Convertible', 'Type_Coupe',\n",
        "       'Type_Hatchback', 'Type_Sedan', 'Type_Wagon']\n",
        "X=encoded_data[cols]"
      ],
      "metadata": {
        "id": "hNP9mnPfsc-b"
      },
      "execution_count": null,
      "outputs": []
    },
    {
      "cell_type": "code",
      "source": [
        "y=encoded_data[['Price']]"
      ],
      "metadata": {
        "id": "liILO5FdttCd"
      },
      "execution_count": null,
      "outputs": []
    },
    {
      "cell_type": "code",
      "source": [
        "from sklearn.model_selection import train_test_split\n",
        "X_train,X_test,y_train,y_test= train_test_split(X,y,test_size=0.2,random_state=4)"
      ],
      "metadata": {
        "id": "DJDrSXnht44i"
      },
      "execution_count": null,
      "outputs": []
    },
    {
      "cell_type": "code",
      "source": [
        "from sklearn.preprocessing import StandardScaler \n",
        "scale=StandardScaler()\n",
        "scale.fit(X_train)\n",
        "X_train_scaled=scale.transform(X_train)\n",
        "X_test_scaled=scale.transform(X_test)"
      ],
      "metadata": {
        "id": "YkSTz-49txxD"
      },
      "execution_count": null,
      "outputs": []
    },
    {
      "cell_type": "code",
      "source": [
        "from sklearn.linear_model import LinearRegression \n",
        "reggressor=LinearRegression()\n",
        "reggressor.fit(X_train,y_train)"
      ],
      "metadata": {
        "colab": {
          "base_uri": "https://localhost:8080/"
        },
        "id": "nHaVBTClulNJ",
        "outputId": "006bba81-f91a-4d60-f069-84c5ca70bedf"
      },
      "execution_count": null,
      "outputs": [
        {
          "output_type": "execute_result",
          "data": {
            "text/plain": [
              "LinearRegression()"
            ]
          },
          "metadata": {},
          "execution_count": 59
        }
      ]
    },
    {
      "cell_type": "code",
      "source": [
        "y_pred=reggressor.predict(X_test)"
      ],
      "metadata": {
        "id": "ux6QSE61urhE"
      },
      "execution_count": null,
      "outputs": []
    },
    {
      "cell_type": "code",
      "source": [
        "reggressor.intercept_"
      ],
      "metadata": {
        "colab": {
          "base_uri": "https://localhost:8080/"
        },
        "id": "BLbv8hc9us-C",
        "outputId": "bff0c8e6-9c54-48ad-b088-908475457e83"
      },
      "execution_count": null,
      "outputs": [
        {
          "output_type": "execute_result",
          "data": {
            "text/plain": [
              "array([25048.79340379])"
            ]
          },
          "metadata": {},
          "execution_count": 61
        }
      ]
    },
    {
      "cell_type": "code",
      "source": [
        "reggressor.coef_"
      ],
      "metadata": {
        "colab": {
          "base_uri": "https://localhost:8080/"
        },
        "id": "yVcUlNdJux1z",
        "outputId": "2a95f186-1c4f-4eab-c3ff-c1788cacd37a"
      },
      "execution_count": null,
      "outputs": [
        {
          "output_type": "execute_result",
          "data": {
            "text/plain": [
              "array([[-1.78517591e-01,  4.63534152e+02,  1.54017144e+03,\n",
              "        -1.34438541e+03, -4.80534698e+01,  2.48539763e+02,\n",
              "         3.58354297e+02, -3.19152283e+03,  1.29830728e+04,\n",
              "        -4.99835058e+03, -4.70881295e+03,  4.83884490e+03,\n",
              "        -4.92323135e+03, -2.45438768e+03,  3.21198470e+02,\n",
              "         1.50675067e+03,  3.49530386e+03,  1.96997957e+03,\n",
              "        -4.70668879e+03,  1.82424074e+02,  3.75236615e+03,\n",
              "        -6.37949839e+03, -3.91023289e+03, -4.52193989e+03,\n",
              "        -2.66630524e+03, -2.70729459e+03,  1.15414997e+04,\n",
              "        -3.70777116e+03,  2.37070969e+02,  4.99152616e+03,\n",
              "        -3.91918847e+03, -1.48419419e+03,  4.72307660e+02,\n",
              "        -2.56014863e+03, -2.36308272e+03,  2.02452662e+02,\n",
              "        -1.35449699e+03, -2.50275262e+03, -5.18883763e+02,\n",
              "         2.48246138e+03,  3.41557097e+02,  3.03269744e+03,\n",
              "        -4.30809765e+03, -4.08353838e+02,  1.59437217e+04,\n",
              "         3.52974403e+03, -2.85755132e+03, -2.25859579e+02,\n",
              "        -4.75549661e+02,  2.92165363e+01]])"
            ]
          },
          "metadata": {},
          "execution_count": 62
        }
      ]
    },
    {
      "cell_type": "code",
      "source": [
        "from sklearn import metrics"
      ],
      "metadata": {
        "id": "UJ5_eL_Ou69h"
      },
      "execution_count": null,
      "outputs": []
    },
    {
      "cell_type": "code",
      "source": [
        "a=metrics.r2_score(y_test,y_pred)\n",
        "print(a)"
      ],
      "metadata": {
        "colab": {
          "base_uri": "https://localhost:8080/"
        },
        "id": "7bvTT3pZu9T6",
        "outputId": "87893622-811b-442c-80e2-e6f381f5bb4e"
      },
      "execution_count": null,
      "outputs": [
        {
          "output_type": "stream",
          "name": "stdout",
          "text": [
            "0.9803290306912582\n"
          ]
        }
      ]
    },
    {
      "cell_type": "markdown",
      "source": [
        "Features ------->>>> Mileage','Cylinder', 'Liter', 'Doors', 'Cruise',\n",
        "       'Sound', 'Leather', 'Make_Buick', 'Make_Cadillac', 'Make_Chevrolet',\n",
        "       'Make_Pontiac', 'Make_SAAB', 'Make_Saturn', 'Model_9-2X AWD',\n",
        "       'Model_9_3', 'Model_9_3 HO', 'Model_9_5', 'Model_9_5 HO', 'Model_AVEO',\n",
        "       'Model_Bonneville', 'Model_CST-V', 'Model_CTS', 'Model_Cavalier',\n",
        "       'Model_Century', 'Model_Classic', 'Model_Cobalt', 'Model_Corvette',\n",
        "       'Model_Deville', 'Model_G6', 'Model_GTO', 'Model_Grand Am',\n",
        "       'Model_Grand Prix', 'Model_Impala', 'Model_Ion', 'Model_L Series',\n",
        "       'Model_Lacrosse', 'Model_Lesabre', 'Model_Malibu', 'Model_Monte Carlo',\n",
        "       'Model_Park Avenue', 'Model_STS-V6', 'Model_STS-V8', 'Model_Sunfire',\n",
        "       'Model_Vibe', 'Model_XLR-V8', 'Type_Convertible', 'Type_Coupe',\n",
        "       'Type_Hatchback', 'Type_Sedan', 'Type_Wagon'"
      ],
      "metadata": {
        "id": "yjY3jIMov6hx"
      }
    },
    {
      "cell_type": "markdown",
      "source": [
        "Coefficients ------>>>> -1.78517591e-01,  4.63534152e+02,  1.54017144e+03,\n",
        "        -1.34438541e+03, -4.80534698e+01,  2.48539763e+02,\n",
        "         3.58354297e+02, -3.19152283e+03,  1.29830728e+04,\n",
        "        -4.99835058e+03, -4.70881295e+03,  4.83884490e+03,\n",
        "        -4.92323135e+03, -2.45438768e+03,  3.21198470e+02,\n",
        "         1.50675067e+03,  3.49530386e+03,  1.96997957e+03,\n",
        "        -4.70668879e+03,  1.82424074e+02,  3.75236615e+03,\n",
        "        -6.37949839e+03, -3.91023289e+03, -4.52193989e+03,\n",
        "        -2.66630524e+03, -2.70729459e+03,  1.15414997e+04,\n",
        "        -3.70777116e+03,  2.37070969e+02,  4.99152616e+03,\n",
        "        -3.91918847e+03, -1.48419419e+03,  4.72307660e+02,\n",
        "        -2.56014863e+03, -2.36308272e+03,  2.02452662e+02,\n",
        "        -1.35449699e+03, -2.50275262e+03, -5.18883763e+02,\n",
        "         2.48246138e+03,  3.41557097e+02,  3.03269744e+03,\n",
        "        -4.30809765e+03, -4.08353838e+02,  1.59437217e+04,\n",
        "         3.52974403e+03, -2.85755132e+03, -2.25859579e+02,\n",
        "        -4.75549661e+02,  2.92165363e+01"
      ],
      "metadata": {
        "id": "1K3Jw64BwG3h"
      }
    },
    {
      "cell_type": "code",
      "source": [
        "features=['Mileage','Cylinder', 'Liter', 'Doors', 'Cruise', 'Sound', 'Leather', 'Make_Buick', 'Make_Cadillac', 'Make_Chevrolet', 'Make_Pontiac', 'Make_SAAB', 'Make_Saturn', 'Model_9-2X AWD', 'Model_9_3', 'Model_9_3 HO', 'Model_9_5', 'Model_9_5 HO', 'Model_AVEO', 'Model_Bonneville', 'Model_CST-V', 'Model_CTS', 'Model_Cavalier', 'Model_Century', 'Model_Classic', 'Model_Cobalt', 'Model_Corvette', 'Model_Deville', 'Model_G6', 'Model_GTO', 'Model_Grand Am', 'Model_Grand Prix', 'Model_Impala', 'Model_Ion', 'Model_L Series', 'Model_Lacrosse', 'Model_Lesabre', 'Model_Malibu', 'Model_Monte Carlo', 'Model_Park Avenue', 'Model_STS-V6', 'Model_STS-V8', 'Model_Sunfire', 'Model_Vibe', 'Model_XLR-V8', 'Type_Convertible', 'Type_Coupe', 'Type_Hatchback', 'Type_Sedan', 'Type_Wagon']"
      ],
      "metadata": {
        "id": "MWbf06tgwNfh"
      },
      "execution_count": null,
      "outputs": []
    },
    {
      "cell_type": "code",
      "source": [
        "coeff=[-1.78517591e-01, 4.63534152e+02, 1.54017144e+03, -1.34438541e+03, -4.80534698e+01, 2.48539763e+02, 3.58354297e+02, -3.19152283e+03, 1.29830728e+04, -4.99835058e+03, -4.70881295e+03, 4.83884490e+03, -4.92323135e+03, -2.45438768e+03, 3.21198470e+02, 1.50675067e+03, 3.49530386e+03, 1.96997957e+03, -4.70668879e+03, 1.82424074e+02, 3.75236615e+03, -6.37949839e+03, -3.91023289e+03, -4.52193989e+03, -2.66630524e+03, -2.70729459e+03, 1.15414997e+04, -3.70777116e+03, 2.37070969e+02, 4.99152616e+03, -3.91918847e+03, -1.48419419e+03, 4.72307660e+02, -2.56014863e+03, -2.36308272e+03, 2.02452662e+02, -1.35449699e+03, -2.50275262e+03, -5.18883763e+02, 2.48246138e+03, 3.41557097e+02, 3.03269744e+03, -4.30809765e+03, -4.08353838e+02, 1.59437217e+04, 3.52974403e+03, -2.85755132e+03, -2.25859579e+02, -4.75549661e+02, 2.92165363e+01]"
      ],
      "metadata": {
        "id": "SS4K2ZVfwdih"
      },
      "execution_count": null,
      "outputs": []
    },
    {
      "cell_type": "code",
      "source": [
        "tab=pd.DataFrame(features,coeff)"
      ],
      "metadata": {
        "id": "psz-1N_AwiNp"
      },
      "execution_count": null,
      "outputs": []
    },
    {
      "cell_type": "code",
      "source": [
        "tab"
      ],
      "metadata": {
        "colab": {
          "base_uri": "https://localhost:8080/",
          "height": 1000
        },
        "id": "f6wh2QVswuV5",
        "outputId": "a7b7ebae-c2d1-40f6-a91b-948f3f9fb8ce"
      },
      "execution_count": null,
      "outputs": [
        {
          "output_type": "execute_result",
          "data": {
            "text/plain": [
              "                               0\n",
              "-0.178518                Mileage\n",
              " 463.534152             Cylinder\n",
              " 1540.171440               Liter\n",
              "-1344.385410               Doors\n",
              "-48.053470                Cruise\n",
              " 248.539763                Sound\n",
              " 358.354297              Leather\n",
              "-3191.522830          Make_Buick\n",
              " 12983.072800      Make_Cadillac\n",
              "-4998.350580      Make_Chevrolet\n",
              "-4708.812950        Make_Pontiac\n",
              " 4838.844900           Make_SAAB\n",
              "-4923.231350         Make_Saturn\n",
              "-2454.387680      Model_9-2X AWD\n",
              " 321.198470            Model_9_3\n",
              " 1506.750670        Model_9_3 HO\n",
              " 3495.303860           Model_9_5\n",
              " 1969.979570        Model_9_5 HO\n",
              "-4706.688790          Model_AVEO\n",
              " 182.424074     Model_Bonneville\n",
              " 3752.366150         Model_CST-V\n",
              "-6379.498390           Model_CTS\n",
              "-3910.232890      Model_Cavalier\n",
              "-4521.939890       Model_Century\n",
              "-2666.305240       Model_Classic\n",
              "-2707.294590        Model_Cobalt\n",
              " 11541.499700     Model_Corvette\n",
              "-3707.771160       Model_Deville\n",
              " 237.070969             Model_G6\n",
              " 4991.526160           Model_GTO\n",
              "-3919.188470      Model_Grand Am\n",
              "-1484.194190    Model_Grand Prix\n",
              " 472.307660         Model_Impala\n",
              "-2560.148630           Model_Ion\n",
              "-2363.082720      Model_L Series\n",
              " 202.452662       Model_Lacrosse\n",
              "-1354.496990       Model_Lesabre\n",
              "-2502.752620        Model_Malibu\n",
              "-518.883763    Model_Monte Carlo\n",
              " 2482.461380   Model_Park Avenue\n",
              " 341.557097         Model_STS-V6\n",
              " 3032.697440        Model_STS-V8\n",
              "-4308.097650       Model_Sunfire\n",
              "-408.353838           Model_Vibe\n",
              " 15943.721700       Model_XLR-V8\n",
              " 3529.744030    Type_Convertible\n",
              "-2857.551320          Type_Coupe\n",
              "-225.859579       Type_Hatchback\n",
              "-475.549661           Type_Sedan\n",
              " 29.216536            Type_Wagon"
            ],
            "text/html": [
              "\n",
              "  <div id=\"df-27cec12f-0599-4b70-af07-077a536abe17\">\n",
              "    <div class=\"colab-df-container\">\n",
              "      <div>\n",
              "<style scoped>\n",
              "    .dataframe tbody tr th:only-of-type {\n",
              "        vertical-align: middle;\n",
              "    }\n",
              "\n",
              "    .dataframe tbody tr th {\n",
              "        vertical-align: top;\n",
              "    }\n",
              "\n",
              "    .dataframe thead th {\n",
              "        text-align: right;\n",
              "    }\n",
              "</style>\n",
              "<table border=\"1\" class=\"dataframe\">\n",
              "  <thead>\n",
              "    <tr style=\"text-align: right;\">\n",
              "      <th></th>\n",
              "      <th>0</th>\n",
              "    </tr>\n",
              "  </thead>\n",
              "  <tbody>\n",
              "    <tr>\n",
              "      <th>-0.178518</th>\n",
              "      <td>Mileage</td>\n",
              "    </tr>\n",
              "    <tr>\n",
              "      <th>463.534152</th>\n",
              "      <td>Cylinder</td>\n",
              "    </tr>\n",
              "    <tr>\n",
              "      <th>1540.171440</th>\n",
              "      <td>Liter</td>\n",
              "    </tr>\n",
              "    <tr>\n",
              "      <th>-1344.385410</th>\n",
              "      <td>Doors</td>\n",
              "    </tr>\n",
              "    <tr>\n",
              "      <th>-48.053470</th>\n",
              "      <td>Cruise</td>\n",
              "    </tr>\n",
              "    <tr>\n",
              "      <th>248.539763</th>\n",
              "      <td>Sound</td>\n",
              "    </tr>\n",
              "    <tr>\n",
              "      <th>358.354297</th>\n",
              "      <td>Leather</td>\n",
              "    </tr>\n",
              "    <tr>\n",
              "      <th>-3191.522830</th>\n",
              "      <td>Make_Buick</td>\n",
              "    </tr>\n",
              "    <tr>\n",
              "      <th>12983.072800</th>\n",
              "      <td>Make_Cadillac</td>\n",
              "    </tr>\n",
              "    <tr>\n",
              "      <th>-4998.350580</th>\n",
              "      <td>Make_Chevrolet</td>\n",
              "    </tr>\n",
              "    <tr>\n",
              "      <th>-4708.812950</th>\n",
              "      <td>Make_Pontiac</td>\n",
              "    </tr>\n",
              "    <tr>\n",
              "      <th>4838.844900</th>\n",
              "      <td>Make_SAAB</td>\n",
              "    </tr>\n",
              "    <tr>\n",
              "      <th>-4923.231350</th>\n",
              "      <td>Make_Saturn</td>\n",
              "    </tr>\n",
              "    <tr>\n",
              "      <th>-2454.387680</th>\n",
              "      <td>Model_9-2X AWD</td>\n",
              "    </tr>\n",
              "    <tr>\n",
              "      <th>321.198470</th>\n",
              "      <td>Model_9_3</td>\n",
              "    </tr>\n",
              "    <tr>\n",
              "      <th>1506.750670</th>\n",
              "      <td>Model_9_3 HO</td>\n",
              "    </tr>\n",
              "    <tr>\n",
              "      <th>3495.303860</th>\n",
              "      <td>Model_9_5</td>\n",
              "    </tr>\n",
              "    <tr>\n",
              "      <th>1969.979570</th>\n",
              "      <td>Model_9_5 HO</td>\n",
              "    </tr>\n",
              "    <tr>\n",
              "      <th>-4706.688790</th>\n",
              "      <td>Model_AVEO</td>\n",
              "    </tr>\n",
              "    <tr>\n",
              "      <th>182.424074</th>\n",
              "      <td>Model_Bonneville</td>\n",
              "    </tr>\n",
              "    <tr>\n",
              "      <th>3752.366150</th>\n",
              "      <td>Model_CST-V</td>\n",
              "    </tr>\n",
              "    <tr>\n",
              "      <th>-6379.498390</th>\n",
              "      <td>Model_CTS</td>\n",
              "    </tr>\n",
              "    <tr>\n",
              "      <th>-3910.232890</th>\n",
              "      <td>Model_Cavalier</td>\n",
              "    </tr>\n",
              "    <tr>\n",
              "      <th>-4521.939890</th>\n",
              "      <td>Model_Century</td>\n",
              "    </tr>\n",
              "    <tr>\n",
              "      <th>-2666.305240</th>\n",
              "      <td>Model_Classic</td>\n",
              "    </tr>\n",
              "    <tr>\n",
              "      <th>-2707.294590</th>\n",
              "      <td>Model_Cobalt</td>\n",
              "    </tr>\n",
              "    <tr>\n",
              "      <th>11541.499700</th>\n",
              "      <td>Model_Corvette</td>\n",
              "    </tr>\n",
              "    <tr>\n",
              "      <th>-3707.771160</th>\n",
              "      <td>Model_Deville</td>\n",
              "    </tr>\n",
              "    <tr>\n",
              "      <th>237.070969</th>\n",
              "      <td>Model_G6</td>\n",
              "    </tr>\n",
              "    <tr>\n",
              "      <th>4991.526160</th>\n",
              "      <td>Model_GTO</td>\n",
              "    </tr>\n",
              "    <tr>\n",
              "      <th>-3919.188470</th>\n",
              "      <td>Model_Grand Am</td>\n",
              "    </tr>\n",
              "    <tr>\n",
              "      <th>-1484.194190</th>\n",
              "      <td>Model_Grand Prix</td>\n",
              "    </tr>\n",
              "    <tr>\n",
              "      <th>472.307660</th>\n",
              "      <td>Model_Impala</td>\n",
              "    </tr>\n",
              "    <tr>\n",
              "      <th>-2560.148630</th>\n",
              "      <td>Model_Ion</td>\n",
              "    </tr>\n",
              "    <tr>\n",
              "      <th>-2363.082720</th>\n",
              "      <td>Model_L Series</td>\n",
              "    </tr>\n",
              "    <tr>\n",
              "      <th>202.452662</th>\n",
              "      <td>Model_Lacrosse</td>\n",
              "    </tr>\n",
              "    <tr>\n",
              "      <th>-1354.496990</th>\n",
              "      <td>Model_Lesabre</td>\n",
              "    </tr>\n",
              "    <tr>\n",
              "      <th>-2502.752620</th>\n",
              "      <td>Model_Malibu</td>\n",
              "    </tr>\n",
              "    <tr>\n",
              "      <th>-518.883763</th>\n",
              "      <td>Model_Monte Carlo</td>\n",
              "    </tr>\n",
              "    <tr>\n",
              "      <th>2482.461380</th>\n",
              "      <td>Model_Park Avenue</td>\n",
              "    </tr>\n",
              "    <tr>\n",
              "      <th>341.557097</th>\n",
              "      <td>Model_STS-V6</td>\n",
              "    </tr>\n",
              "    <tr>\n",
              "      <th>3032.697440</th>\n",
              "      <td>Model_STS-V8</td>\n",
              "    </tr>\n",
              "    <tr>\n",
              "      <th>-4308.097650</th>\n",
              "      <td>Model_Sunfire</td>\n",
              "    </tr>\n",
              "    <tr>\n",
              "      <th>-408.353838</th>\n",
              "      <td>Model_Vibe</td>\n",
              "    </tr>\n",
              "    <tr>\n",
              "      <th>15943.721700</th>\n",
              "      <td>Model_XLR-V8</td>\n",
              "    </tr>\n",
              "    <tr>\n",
              "      <th>3529.744030</th>\n",
              "      <td>Type_Convertible</td>\n",
              "    </tr>\n",
              "    <tr>\n",
              "      <th>-2857.551320</th>\n",
              "      <td>Type_Coupe</td>\n",
              "    </tr>\n",
              "    <tr>\n",
              "      <th>-225.859579</th>\n",
              "      <td>Type_Hatchback</td>\n",
              "    </tr>\n",
              "    <tr>\n",
              "      <th>-475.549661</th>\n",
              "      <td>Type_Sedan</td>\n",
              "    </tr>\n",
              "    <tr>\n",
              "      <th>29.216536</th>\n",
              "      <td>Type_Wagon</td>\n",
              "    </tr>\n",
              "  </tbody>\n",
              "</table>\n",
              "</div>\n",
              "      <button class=\"colab-df-convert\" onclick=\"convertToInteractive('df-27cec12f-0599-4b70-af07-077a536abe17')\"\n",
              "              title=\"Convert this dataframe to an interactive table.\"\n",
              "              style=\"display:none;\">\n",
              "        \n",
              "  <svg xmlns=\"http://www.w3.org/2000/svg\" height=\"24px\"viewBox=\"0 0 24 24\"\n",
              "       width=\"24px\">\n",
              "    <path d=\"M0 0h24v24H0V0z\" fill=\"none\"/>\n",
              "    <path d=\"M18.56 5.44l.94 2.06.94-2.06 2.06-.94-2.06-.94-.94-2.06-.94 2.06-2.06.94zm-11 1L8.5 8.5l.94-2.06 2.06-.94-2.06-.94L8.5 2.5l-.94 2.06-2.06.94zm10 10l.94 2.06.94-2.06 2.06-.94-2.06-.94-.94-2.06-.94 2.06-2.06.94z\"/><path d=\"M17.41 7.96l-1.37-1.37c-.4-.4-.92-.59-1.43-.59-.52 0-1.04.2-1.43.59L10.3 9.45l-7.72 7.72c-.78.78-.78 2.05 0 2.83L4 21.41c.39.39.9.59 1.41.59.51 0 1.02-.2 1.41-.59l7.78-7.78 2.81-2.81c.8-.78.8-2.07 0-2.86zM5.41 20L4 18.59l7.72-7.72 1.47 1.35L5.41 20z\"/>\n",
              "  </svg>\n",
              "      </button>\n",
              "      \n",
              "  <style>\n",
              "    .colab-df-container {\n",
              "      display:flex;\n",
              "      flex-wrap:wrap;\n",
              "      gap: 12px;\n",
              "    }\n",
              "\n",
              "    .colab-df-convert {\n",
              "      background-color: #E8F0FE;\n",
              "      border: none;\n",
              "      border-radius: 50%;\n",
              "      cursor: pointer;\n",
              "      display: none;\n",
              "      fill: #1967D2;\n",
              "      height: 32px;\n",
              "      padding: 0 0 0 0;\n",
              "      width: 32px;\n",
              "    }\n",
              "\n",
              "    .colab-df-convert:hover {\n",
              "      background-color: #E2EBFA;\n",
              "      box-shadow: 0px 1px 2px rgba(60, 64, 67, 0.3), 0px 1px 3px 1px rgba(60, 64, 67, 0.15);\n",
              "      fill: #174EA6;\n",
              "    }\n",
              "\n",
              "    [theme=dark] .colab-df-convert {\n",
              "      background-color: #3B4455;\n",
              "      fill: #D2E3FC;\n",
              "    }\n",
              "\n",
              "    [theme=dark] .colab-df-convert:hover {\n",
              "      background-color: #434B5C;\n",
              "      box-shadow: 0px 1px 3px 1px rgba(0, 0, 0, 0.15);\n",
              "      filter: drop-shadow(0px 1px 2px rgba(0, 0, 0, 0.3));\n",
              "      fill: #FFFFFF;\n",
              "    }\n",
              "  </style>\n",
              "\n",
              "      <script>\n",
              "        const buttonEl =\n",
              "          document.querySelector('#df-27cec12f-0599-4b70-af07-077a536abe17 button.colab-df-convert');\n",
              "        buttonEl.style.display =\n",
              "          google.colab.kernel.accessAllowed ? 'block' : 'none';\n",
              "\n",
              "        async function convertToInteractive(key) {\n",
              "          const element = document.querySelector('#df-27cec12f-0599-4b70-af07-077a536abe17');\n",
              "          const dataTable =\n",
              "            await google.colab.kernel.invokeFunction('convertToInteractive',\n",
              "                                                     [key], {});\n",
              "          if (!dataTable) return;\n",
              "\n",
              "          const docLinkHtml = 'Like what you see? Visit the ' +\n",
              "            '<a target=\"_blank\" href=https://colab.research.google.com/notebooks/data_table.ipynb>data table notebook</a>'\n",
              "            + ' to learn more about interactive tables.';\n",
              "          element.innerHTML = '';\n",
              "          dataTable['output_type'] = 'display_data';\n",
              "          await google.colab.output.renderOutput(dataTable, element);\n",
              "          const docLink = document.createElement('div');\n",
              "          docLink.innerHTML = docLinkHtml;\n",
              "          element.appendChild(docLink);\n",
              "        }\n",
              "      </script>\n",
              "    </div>\n",
              "  </div>\n",
              "  "
            ]
          },
          "metadata": {},
          "execution_count": 68
        }
      ]
    }
  ],
  "metadata": {
    "kernelspec": {
      "display_name": "Python 3",
      "language": "python",
      "name": "python3"
    },
    "language_info": {
      "codemirror_mode": {
        "name": "ipython",
        "version": 3
      },
      "file_extension": ".py",
      "mimetype": "text/x-python",
      "name": "python",
      "nbconvert_exporter": "python",
      "pygments_lexer": "ipython3",
      "version": "3.8.3"
    },
    "colab": {
      "provenance": [],
      "collapsed_sections": [],
      "include_colab_link": true
    }
  },
  "nbformat": 4,
  "nbformat_minor": 0
}